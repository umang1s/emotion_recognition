{
 "cells": [
  {
   "cell_type": "code",
   "execution_count": null,
   "metadata": {},
   "outputs": [],
   "source": [
    "import os\n",
    "from tensorflow.python.keras.callbacks import ModelCheckpoint, ReduceLROnPlateau\n",
    "from tensorflow.keras.preprocessing.image import ImageDataGenerator\n",
    "import cnn as cnn"
   ]
  },
  {
   "cell_type": "code",
   "execution_count": null,
   "metadata": {},
   "outputs": [],
   "source": [
    "EPOCHES=1\n",
    "LEARNING_RATE=0.001\n",
    "BATCH_SIZE=128\n",
    "DATASET_DIR=\"C:/Users/Public/dataset/\"\n",
    "EMOTIONS=[\"angry\",\"disgusted\",\"fearful\",\"happy\",\"neutral\",\"sad\",\"surprised\"] #don't update"
   ]
  },
  {
   "cell_type": "code",
   "execution_count": null,
   "metadata": {},
   "outputs": [],
   "source": [
    "def ImageBuffer(dirname,img_size,batch_size):\n",
    "    print(dirname)\n",
    "    \"\"\"Returns Image Buffer\"\"\"\n",
    "    stream=ImageDataGenerator(\n",
    "        rotation_range=40,\n",
    "        brightness_range=(0.0,2.0),\n",
    "        horizontal_flip=True\n",
    "    )\n",
    "    image_buffer=stream.flow_from_directory(\n",
    "        dirname,target_size=(img_size,img_size),\n",
    "        color_mode='grayscale',\n",
    "        batch_size=batch_size,\n",
    "        class_mode='categorical',\n",
    "        shuffle=True\n",
    "    )\n",
    "\n",
    "    return image_buffer"
   ]
  },
  {
   "cell_type": "code",
   "execution_count": null,
   "metadata": {},
   "outputs": [],
   "source": [
    "\n",
    "JSON_FILE=\"weight_json.json\"\n",
    "WEIGHT_FILE=\"weight.h5\"\n",
    "\n",
    "for folderName in EMOTIONS:\n",
    "    print(folderName+\" : \",str(len(os.listdir(DATASET_DIR+'train/'+folderName))))\n",
    "\n",
    "train_buffer=ImageBuffer(DATASET_DIR+\"train/\",48,BATCH_SIZE)\n",
    "test_buffer=ImageBuffer(DATASET_DIR+\"test/\",48,BATCH_SIZE)\n",
    "\n",
    "        \n",
    "checkPoint=ModelCheckpoint(\"data/\"+WEIGHT_FILE,monitor='val_accuracy',save_weights_only=True,model='max',verbose=1)\n",
    "\n",
    "learning_rate=ReduceLROnPlateau(monitor='val_loss',factor=0.1,patience=2,min_lr=0.001,model='auto')\n",
    "model=cnn.CNN(7)\n",
    "\n",
    "callbacks=[checkPoint,learning_rate]\n",
    "history=model.fit(steps_per_epoch=train_buffer.n//train_buffer.batch_size,\n",
    "    epochs=EPOCHES,\n",
    "    x=train_buffer,\n",
    "    validation_data=test_buffer,\n",
    "    callbacks=callbacks,\n",
    ")\n",
    "\n",
    "model_json = model.to_json()\n",
    "with open(\"data/\"+JSON_FILE,\"w\") as json_file:\n",
    "    json_file.write(model_json)"
   ]
  }
 ],
 "metadata": {
  "language_info": {
   "name": "python"
  },
  "orig_nbformat": 4
 },
 "nbformat": 4,
 "nbformat_minor": 2
}
